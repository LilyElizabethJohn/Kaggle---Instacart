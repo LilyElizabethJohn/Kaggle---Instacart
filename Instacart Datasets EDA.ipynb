{
 "cells": [
  {
   "cell_type": "markdown",
   "metadata": {},
   "source": [
    "# Instacart Kaggle Project"
   ]
  },
  {
   "cell_type": "code",
   "execution_count": 3,
   "metadata": {},
   "outputs": [],
   "source": [
    "#Import Libraries\n",
    "import pandas as pd\n",
    "import numpy as np\n",
    "import matplotlib.pyplot as plt\n",
    "import seaborn as sns\n",
    "sns.set_style(\"whitegrid\")\n",
    "%matplotlib inline"
   ]
  },
  {
   "cell_type": "code",
   "execution_count": 8,
   "metadata": {},
   "outputs": [],
   "source": [
    "#Read in Dataset\n",
    "aisles_df=pd.read_csv(r\"aisles.csv\")\n",
    "departments_df=pd.read_csv(r\"departments.csv\")\n",
    "order_products_prior_df=pd.read_csv(r\"order_products_prior.csv\")\n",
    "order_products_train_df=pd.read_csv(r\"order_products_train.csv\")\n",
    "orders_df=pd.read_csv(r\"orders.csv\")\n",
    "products_df=pd.read_csv(r\"products.csv\")"
   ]
  },
  {
   "cell_type": "code",
   "execution_count": 11,
   "metadata": {},
   "outputs": [
    {
     "name": "stdout",
     "output_type": "stream",
     "text": [
      "Aisles Dataset Shape :  (134, 2)\n",
      "Departments Dataset Shape :  (21, 2)\n",
      "Order Products Prior Dataset Shape :  (32434489, 4)\n",
      "Order Products Train Dataset Shape :  (1384617, 4)\n",
      "Orders Dataset Shape :  (3421083, 7)\n",
      "Products Dataset Shape :  (49688, 4)\n"
     ]
    }
   ],
   "source": [
    "#Print data shapes\n",
    "print(\"Aisles Dataset Shape : \",aisles_df.shape)\n",
    "print(\"Departments Dataset Shape : \",departments_df.shape)\n",
    "print(\"Order Products Prior Dataset Shape : \",order_products_prior_df.shape)\n",
    "print(\"Order Products Train Dataset Shape : \",order_products_train_df.shape)\n",
    "print(\"Orders Dataset Shape : \",orders_df.shape)\n",
    "print(\"Products Dataset Shape : \",products_df.shape)"
   ]
  },
  {
   "cell_type": "code",
   "execution_count": 17,
   "metadata": {},
   "outputs": [
    {
     "name": "stdout",
     "output_type": "stream",
     "text": [
      "<class 'pandas.core.frame.DataFrame'>\n",
      "RangeIndex: 134 entries, 0 to 133\n",
      "Data columns (total 2 columns):\n",
      "aisle_id    134 non-null int64\n",
      "aisle       134 non-null object\n",
      "dtypes: int64(1), object(1)\n",
      "memory usage: 2.2+ KB\n",
      "Aisles Dataset Info :  None \n",
      "\n",
      "<class 'pandas.core.frame.DataFrame'>\n",
      "RangeIndex: 21 entries, 0 to 20\n",
      "Data columns (total 2 columns):\n",
      "department_id    21 non-null int64\n",
      "department       21 non-null object\n",
      "dtypes: int64(1), object(1)\n",
      "memory usage: 416.0+ bytes\n",
      "Departments Dataset Info :  None \n",
      "\n",
      "<class 'pandas.core.frame.DataFrame'>\n",
      "RangeIndex: 32434489 entries, 0 to 32434488\n",
      "Data columns (total 4 columns):\n",
      "order_id             int64\n",
      "product_id           int64\n",
      "add_to_cart_order    int64\n",
      "reordered            int64\n",
      "dtypes: int64(4)\n",
      "memory usage: 989.8 MB\n",
      "Order Products Prior Dataset Info :  None \n",
      "\n",
      "<class 'pandas.core.frame.DataFrame'>\n",
      "RangeIndex: 1384617 entries, 0 to 1384616\n",
      "Data columns (total 4 columns):\n",
      "order_id             1384617 non-null int64\n",
      "product_id           1384617 non-null int64\n",
      "add_to_cart_order    1384617 non-null int64\n",
      "reordered            1384617 non-null int64\n",
      "dtypes: int64(4)\n",
      "memory usage: 42.3 MB\n",
      "Order Products Train Dataset Info :  None \n",
      "\n",
      "<class 'pandas.core.frame.DataFrame'>\n",
      "RangeIndex: 3421083 entries, 0 to 3421082\n",
      "Data columns (total 7 columns):\n",
      "order_id                  int64\n",
      "user_id                   int64\n",
      "eval_set                  object\n",
      "order_number              int64\n",
      "order_dow                 int64\n",
      "order_hour_of_day         int64\n",
      "days_since_prior_order    float64\n",
      "dtypes: float64(1), int64(5), object(1)\n",
      "memory usage: 182.7+ MB\n",
      "Orders Dataset Info :  None \n",
      "\n",
      "<class 'pandas.core.frame.DataFrame'>\n",
      "RangeIndex: 49688 entries, 0 to 49687\n",
      "Data columns (total 4 columns):\n",
      "product_id       49688 non-null int64\n",
      "product_name     49688 non-null object\n",
      "aisle_id         49688 non-null int64\n",
      "department_id    49688 non-null int64\n",
      "dtypes: int64(3), object(1)\n",
      "memory usage: 1.5+ MB\n",
      "Products Dataset Info :  None \n",
      "\n"
     ]
    }
   ],
   "source": [
    "#Print data info\n",
    "print(\"Aisles Dataset Info : \",aisles_df.info(),\"\\n\")\n",
    "print(\"Departments Dataset Info : \",departments_df.info(),\"\\n\")\n",
    "print(\"Order Products Prior Dataset Info : \",order_products_prior_df.info(),\"\\n\")\n",
    "print(\"Order Products Train Dataset Info : \",order_products_train_df.info(),\"\\n\")\n",
    "print(\"Orders Dataset Info : \",orders_df.info(),\"\\n\")\n",
    "print(\"Products Dataset Info : \",products_df.info(),\"\\n\")"
   ]
  },
  {
   "cell_type": "code",
   "execution_count": null,
   "metadata": {
    "collapsed": true
   },
   "outputs": [],
   "source": []
  }
 ],
 "metadata": {
  "kernelspec": {
   "display_name": "Python 3",
   "language": "python",
   "name": "python3"
  },
  "language_info": {
   "codemirror_mode": {
    "name": "ipython",
    "version": 3
   },
   "file_extension": ".py",
   "mimetype": "text/x-python",
   "name": "python",
   "nbconvert_exporter": "python",
   "pygments_lexer": "ipython3",
   "version": "3.5.2"
  }
 },
 "nbformat": 4,
 "nbformat_minor": 2
}
